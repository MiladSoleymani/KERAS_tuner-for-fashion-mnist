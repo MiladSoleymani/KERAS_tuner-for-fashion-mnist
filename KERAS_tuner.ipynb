{
  "nbformat": 4,
  "nbformat_minor": 0,
  "metadata": {
    "colab": {
      "provenance": [],
      "collapsed_sections": []
    },
    "kernelspec": {
      "name": "python3",
      "display_name": "Python 3"
    },
    "accelerator": "GPU"
  },
  "cells": [
    {
      "cell_type": "code",
      "metadata": {
        "colab": {
          "base_uri": "https://localhost:8080/"
        },
        "id": "ay5C6Rnd4ofN",
        "outputId": "bc4cb08b-72aa-4718-9276-0528a1648c4c"
      },
      "source": [
        "!pip install keras-tuner"
      ],
      "execution_count": null,
      "outputs": [
        {
          "output_type": "stream",
          "text": [
            "Collecting keras-tuner\n",
            "\u001b[?25l  Downloading https://files.pythonhosted.org/packages/20/ec/1ef246787174b1e2bb591c95f29d3c1310070cad877824f907faba3dade9/keras-tuner-1.0.2.tar.gz (62kB)\n",
            "\r\u001b[K     |█████▏                          | 10kB 10.7MB/s eta 0:00:01\r\u001b[K     |██████████▍                     | 20kB 5.3MB/s eta 0:00:01\r\u001b[K     |███████████████▋                | 30kB 3.9MB/s eta 0:00:01\r\u001b[K     |████████████████████▉           | 40kB 3.8MB/s eta 0:00:01\r\u001b[K     |██████████████████████████      | 51kB 1.9MB/s eta 0:00:01\r\u001b[K     |███████████████████████████████▎| 61kB 2.1MB/s eta 0:00:01\r\u001b[K     |████████████████████████████████| 71kB 1.9MB/s \n",
            "\u001b[?25hRequirement already satisfied: packaging in /usr/local/lib/python3.7/dist-packages (from keras-tuner) (20.9)\n",
            "Requirement already satisfied: future in /usr/local/lib/python3.7/dist-packages (from keras-tuner) (0.16.0)\n",
            "Requirement already satisfied: numpy in /usr/local/lib/python3.7/dist-packages (from keras-tuner) (1.19.5)\n",
            "Requirement already satisfied: tabulate in /usr/local/lib/python3.7/dist-packages (from keras-tuner) (0.8.9)\n",
            "Collecting terminaltables\n",
            "  Downloading https://files.pythonhosted.org/packages/9b/c4/4a21174f32f8a7e1104798c445dacdc1d4df86f2f26722767034e4de4bff/terminaltables-3.1.0.tar.gz\n",
            "Collecting colorama\n",
            "  Downloading https://files.pythonhosted.org/packages/44/98/5b86278fbbf250d239ae0ecb724f8572af1c91f4a11edf4d36a206189440/colorama-0.4.4-py2.py3-none-any.whl\n",
            "Requirement already satisfied: tqdm in /usr/local/lib/python3.7/dist-packages (from keras-tuner) (4.41.1)\n",
            "Requirement already satisfied: requests in /usr/local/lib/python3.7/dist-packages (from keras-tuner) (2.23.0)\n",
            "Requirement already satisfied: scipy in /usr/local/lib/python3.7/dist-packages (from keras-tuner) (1.4.1)\n",
            "Requirement already satisfied: scikit-learn in /usr/local/lib/python3.7/dist-packages (from keras-tuner) (0.22.2.post1)\n",
            "Requirement already satisfied: pyparsing>=2.0.2 in /usr/local/lib/python3.7/dist-packages (from packaging->keras-tuner) (2.4.7)\n",
            "Requirement already satisfied: chardet<4,>=3.0.2 in /usr/local/lib/python3.7/dist-packages (from requests->keras-tuner) (3.0.4)\n",
            "Requirement already satisfied: certifi>=2017.4.17 in /usr/local/lib/python3.7/dist-packages (from requests->keras-tuner) (2020.12.5)\n",
            "Requirement already satisfied: urllib3!=1.25.0,!=1.25.1,<1.26,>=1.21.1 in /usr/local/lib/python3.7/dist-packages (from requests->keras-tuner) (1.24.3)\n",
            "Requirement already satisfied: idna<3,>=2.5 in /usr/local/lib/python3.7/dist-packages (from requests->keras-tuner) (2.10)\n",
            "Requirement already satisfied: joblib>=0.11 in /usr/local/lib/python3.7/dist-packages (from scikit-learn->keras-tuner) (1.0.1)\n",
            "Building wheels for collected packages: keras-tuner, terminaltables\n",
            "  Building wheel for keras-tuner (setup.py) ... \u001b[?25l\u001b[?25hdone\n",
            "  Created wheel for keras-tuner: filename=keras_tuner-1.0.2-cp37-none-any.whl size=78935 sha256=4ebc35269345040b195938ca0fa151680c963e86cfb6089bb0433406809e0029\n",
            "  Stored in directory: /root/.cache/pip/wheels/bb/a1/8a/7c3de0efb3707a1701b36ebbfdbc4e67aedf6d4943a1f463d6\n",
            "  Building wheel for terminaltables (setup.py) ... \u001b[?25l\u001b[?25hdone\n",
            "  Created wheel for terminaltables: filename=terminaltables-3.1.0-cp37-none-any.whl size=15356 sha256=7f69989365102878e375bfb2fbde26e2dc62c26c9499990a70a2a172204e50fc\n",
            "  Stored in directory: /root/.cache/pip/wheels/30/6b/50/6c75775b681fb36cdfac7f19799888ef9d8813aff9e379663e\n",
            "Successfully built keras-tuner terminaltables\n",
            "Installing collected packages: terminaltables, colorama, keras-tuner\n",
            "Successfully installed colorama-0.4.4 keras-tuner-1.0.2 terminaltables-3.1.0\n"
          ],
          "name": "stdout"
        }
      ]
    },
    {
      "cell_type": "code",
      "metadata": {
        "colab": {
          "base_uri": "https://localhost:8080/",
          "height": 35
        },
        "id": "zquKj1f_9CZk",
        "outputId": "d4b82efe-3f90-4332-a1f6-78f5ed64c640"
      },
      "source": [
        "import tensorflow as tf\n",
        "import kerastuner\n",
        "import matplotlib.pyplot as plt\n",
        "import numpy as np\n",
        "\n",
        "tf.__version__"
      ],
      "execution_count": null,
      "outputs": [
        {
          "output_type": "execute_result",
          "data": {
            "application/vnd.google.colaboratory.intrinsic+json": {
              "type": "string"
            },
            "text/plain": [
              "'2.5.0'"
            ]
          },
          "metadata": {
            "tags": []
          },
          "execution_count": 2
        }
      ]
    },
    {
      "cell_type": "code",
      "metadata": {
        "id": "cbEz2FIC9eJA",
        "colab": {
          "base_uri": "https://localhost:8080/"
        },
        "outputId": "5521d23c-eedf-4495-eafe-68273158309a"
      },
      "source": [
        "(x_train,y_train),(x_test,y_test) = tf.keras.datasets.fashion_mnist.load_data()"
      ],
      "execution_count": null,
      "outputs": [
        {
          "output_type": "stream",
          "text": [
            "Downloading data from https://storage.googleapis.com/tensorflow/tf-keras-datasets/train-labels-idx1-ubyte.gz\n",
            "32768/29515 [=================================] - 0s 0us/step\n",
            "Downloading data from https://storage.googleapis.com/tensorflow/tf-keras-datasets/train-images-idx3-ubyte.gz\n",
            "26427392/26421880 [==============================] - 0s 0us/step\n",
            "Downloading data from https://storage.googleapis.com/tensorflow/tf-keras-datasets/t10k-labels-idx1-ubyte.gz\n",
            "8192/5148 [===============================================] - 0s 0us/step\n",
            "Downloading data from https://storage.googleapis.com/tensorflow/tf-keras-datasets/t10k-images-idx3-ubyte.gz\n",
            "4423680/4422102 [==============================] - 0s 0us/step\n"
          ],
          "name": "stdout"
        }
      ]
    },
    {
      "cell_type": "code",
      "metadata": {
        "colab": {
          "base_uri": "https://localhost:8080/"
        },
        "id": "ad1rjbIT9QJ3",
        "outputId": "47d0f94e-4c25-4c32-8d46-a2c82b1b3cb0"
      },
      "source": [
        "print(x_train.shape)\n",
        "print(x_test.shape)"
      ],
      "execution_count": null,
      "outputs": [
        {
          "output_type": "stream",
          "text": [
            "(60000, 28, 28)\n",
            "(10000, 28, 28)\n"
          ],
          "name": "stdout"
        }
      ]
    },
    {
      "cell_type": "code",
      "metadata": {
        "colab": {
          "base_uri": "https://localhost:8080/",
          "height": 278
        },
        "id": "I7SE5117-bk2",
        "outputId": "ec5022a9-55b1-40c1-8e70-b1ccf70fbb9f"
      },
      "source": [
        "plt.imshow(x_train[20],cmap='gray')\n",
        "plt.xlabel(y_train[20])\n",
        "plt.show()"
      ],
      "execution_count": null,
      "outputs": [
        {
          "output_type": "display_data",
          "data": {
            "image/png": "[encoded data removed]",
            "text/plain": [
              "<Figure size 432x288 with 1 Axes>"
            ]
          },
          "metadata": {
            "tags": [],
            "needs_background": "light"
          }
        }
      ]
    },
    {
      "cell_type": "code",
      "metadata": {
        "id": "S5u1KU4J_Igm"
      },
      "source": [
        "def create_model(hp):\n",
        "\n",
        "    num_layer = 1\n",
        "    num_units = 8\n",
        "    dropout_rate = 0.1\n",
        "    learning_rate = 0.01\n",
        "\n",
        "    if hp!=None:\n",
        "        num_layer = hp.Choice('num_layer',values=[1,2,3])\n",
        "        num_units = hp.Choice('num_units',values=[8,16,32])\n",
        "        dropout_rate = hp.Float('dropout_rate',min_value=0.1 ,max_value=0.5)\n",
        "        learning_rate = hp.Float('learning_rate',min_value=0.0001 ,max_value=0.01)\n",
        "\n",
        "    model = tf.keras.models.Sequential()\n",
        "    model.add(tf.keras.layers.Flatten(input_shape = (28,28)))\n",
        "    model.add(tf.keras.layers.Lambda(lambda x:x/255.0))\n",
        "\n",
        "    for _ in range(0,num_layer):\n",
        "        model.add(tf.keras.layers.Dense(units=num_units,activation='relu'))\n",
        "        model.add(tf.keras.layers.Dropout(rate=dropout_rate))\n",
        "\n",
        "    model.add(tf.keras.layers.Dense(units=10,activation='softmax'))\n",
        "\n",
        "    model.compile(\n",
        "        loss='sparse_categorical_crossentropy',\n",
        "        optimizer=tf.keras.optimizers.Adam(learning_rate=learning_rate),\n",
        "        metrics=['accuracy']\n",
        "    )\n",
        "    \n",
        "    return model\n"
      ],
      "execution_count": null,
      "outputs": []
    },
    {
      "cell_type": "code",
      "metadata": {
        "id": "EJtEskH0CJKk",
        "colab": {
          "base_uri": "https://localhost:8080/"
        },
        "outputId": "5e903b55-569e-4b8f-eb88-1fc1200cf03b"
      },
      "source": [
        "create_model(None).summary()"
      ],
      "execution_count": null,
      "outputs": [
        {
          "output_type": "stream",
          "text": [
            "Model: \"sequential\"\n",
            "_________________________________________________________________\n",
            "Layer (type)                 Output Shape              Param #   \n",
            "=================================================================\n",
            "flatten (Flatten)            (None, 784)               0         \n",
            "_________________________________________________________________\n",
            "lambda (Lambda)              (None, 784)               0         \n",
            "_________________________________________________________________\n",
            "dense (Dense)                (None, 8)                 6280      \n",
            "_________________________________________________________________\n",
            "dropout (Dropout)            (None, 8)                 0         \n",
            "_________________________________________________________________\n",
            "dense_1 (Dense)              (None, 10)                90        \n",
            "=================================================================\n",
            "Total params: 6,370\n",
            "Trainable params: 6,370\n",
            "Non-trainable params: 0\n",
            "_________________________________________________________________\n"
          ],
          "name": "stdout"
        }
      ]
    },
    {
      "cell_type": "code",
      "metadata": {
        "id": "gL4QshHBSqH7"
      },
      "source": [
        "class CustomTuner(kerastuner.tuners.BayesianOptimization):\n",
        "    def run_trial(self, trial, *arg ,**kwargs):\n",
        "        kwargs['batch_size'] = trial.hyperparameters.Int('batch_size',32,128,step=32)\n",
        "        super(CustomTuner, self).run_trial(trial, *arg, **kwargs)"
      ],
      "execution_count": null,
      "outputs": []
    },
    {
      "cell_type": "code",
      "metadata": {
        "id": "cW-4Do70RP1d"
      },
      "source": [
        "tuner = CustomTuner(\n",
        "    create_model,\n",
        "    objective='val_accuracy',\n",
        "    max_trials=20,\n",
        "    directory='mydir',\n",
        "    project_name='fashion_mnist',\n",
        "    overwrite=True\n",
        ")"
      ],
      "execution_count": null,
      "outputs": []
    },
    {
      "cell_type": "code",
      "metadata": {
        "colab": {
          "base_uri": "https://localhost:8080/"
        },
        "id": "_GexmNNtUc1s",
        "outputId": "6db0835e-8b69-4e2c-89df-354b3b5696d3"
      },
      "source": [
        "tuner.search_space_summary()"
      ],
      "execution_count": null,
      "outputs": [
        {
          "output_type": "stream",
          "text": [
            "Search space summary\n",
            "Default search space size: 4\n",
            "num_layer (Choice)\n",
            "{'default': 1, 'conditions': [], 'values': [1, 2, 3], 'ordered': True}\n",
            "num_units (Choice)\n",
            "{'default': 8, 'conditions': [], 'values': [8, 16, 32], 'ordered': True}\n",
            "dropout_rate (Float)\n",
            "{'default': 0.1, 'conditions': [], 'min_value': 0.1, 'max_value': 0.5, 'step': None, 'sampling': None}\n",
            "learning_rate (Float)\n",
            "{'default': 0.0001, 'conditions': [], 'min_value': 0.0001, 'max_value': 0.01, 'step': None, 'sampling': None}\n"
          ],
          "name": "stdout"
        }
      ]
    },
    {
      "cell_type": "code",
      "metadata": {
        "colab": {
          "base_uri": "https://localhost:8080/"
        },
        "id": "cuf6kzklUg7q",
        "outputId": "418406d9-78a2-4bbd-d132-d8a1d4daa9a9"
      },
      "source": [
        "tuner.search(\n",
        "    x_train,y_train,\n",
        "    validation_data=(x_test,y_test),\n",
        "    epochs=5,\n",
        "    verbose=1\n",
        ")"
      ],
      "execution_count": null,
      "outputs": [
        {
          "output_type": "stream",
          "text": [
            "Trial 20 Complete [00h 00m 31s]\n",
            "val_accuracy: 0.8158000111579895\n",
            "\n",
            "Best val_accuracy So Far: 0.8518000245094299\n",
            "Total elapsed time: 00h 07m 43s\n",
            "INFO:tensorflow:Oracle triggered exit\n"
          ],
          "name": "stdout"
        }
      ]
    },
    {
      "cell_type": "code",
      "metadata": {
        "colab": {
          "base_uri": "https://localhost:8080/"
        },
        "id": "63S2gzGgWBap",
        "outputId": "008ac90a-c8d2-420a-d0d3-b9bbeb8eec08"
      },
      "source": [
        "tuner.results_summary(1)"
      ],
      "execution_count": null,
      "outputs": [
        {
          "output_type": "stream",
          "text": [
            "Results summary\n",
            "Results in mydir/fashion_mnist\n",
            "Showing 1 best trials\n",
            "Objective(name='val_accuracy', direction='max')\n",
            "Trial summary\n",
            "Hyperparameters:\n",
            "num_layer: 1\n",
            "num_units: 32\n",
            "dropout_rate: 0.2878353297251804\n",
            "learning_rate: 0.005131326196721497\n",
            "batch_size: 96\n",
            "Score: 0.8518000245094299\n"
          ],
          "name": "stdout"
        }
      ]
    },
    {
      "cell_type": "code",
      "metadata": {
        "id": "BGFfnfBxZlgs"
      },
      "source": [
        "best_hps=tuner.get_best_hyperparameters(num_trials=1)[0]"
      ],
      "execution_count": null,
      "outputs": []
    },
    {
      "cell_type": "code",
      "metadata": {
        "colab": {
          "base_uri": "https://localhost:8080/"
        },
        "id": "rN51mbOVZza2",
        "outputId": "601bba19-ea76-4507-8e69-fd1bb04732bd"
      },
      "source": [
        "model = tuner.hypermodel.build(best_hps)\n",
        "history = model.fit(x_train, y_train, epochs=40, validation_data=(x_test,y_test))\n",
        "\n",
        "val_acc_per_epoch = history.history['val_accuracy']\n",
        "best_epoch = val_acc_per_epoch.index(max(val_acc_per_epoch)) + 1\n",
        "print('Best epoch: %d' % (best_epoch,))"
      ],
      "execution_count": null,
      "outputs": [
        {
          "output_type": "stream",
          "text": [
            "Epoch 1/40\n",
            "1875/1875 [==============================] - 5s 3ms/step - loss: 0.7126 - accuracy: 0.7384 - val_loss: 0.5135 - val_accuracy: 0.8219\n",
            "Epoch 2/40\n",
            "1875/1875 [==============================] - 5s 3ms/step - loss: 0.6006 - accuracy: 0.7786 - val_loss: 0.4932 - val_accuracy: 0.8262\n",
            "Epoch 3/40\n",
            "1875/1875 [==============================] - 5s 3ms/step - loss: 0.5735 - accuracy: 0.7873 - val_loss: 0.4827 - val_accuracy: 0.8308\n",
            "Epoch 4/40\n",
            "1875/1875 [==============================] - 5s 3ms/step - loss: 0.5659 - accuracy: 0.7893 - val_loss: 0.4875 - val_accuracy: 0.8252\n",
            "Epoch 5/40\n",
            "1875/1875 [==============================] - 5s 3ms/step - loss: 0.5526 - accuracy: 0.7956 - val_loss: 0.4682 - val_accuracy: 0.8326\n",
            "Epoch 6/40\n",
            "1875/1875 [==============================] - 5s 3ms/step - loss: 0.5436 - accuracy: 0.7974 - val_loss: 0.4410 - val_accuracy: 0.8412\n",
            "Epoch 7/40\n",
            "1875/1875 [==============================] - 5s 3ms/step - loss: 0.5398 - accuracy: 0.7969 - val_loss: 0.4590 - val_accuracy: 0.8343\n",
            "Epoch 8/40\n",
            "1875/1875 [==============================] - 5s 3ms/step - loss: 0.5341 - accuracy: 0.8003 - val_loss: 0.4471 - val_accuracy: 0.8393\n",
            "Epoch 9/40\n",
            "1875/1875 [==============================] - 5s 3ms/step - loss: 0.5244 - accuracy: 0.8053 - val_loss: 0.4470 - val_accuracy: 0.8413\n",
            "Epoch 10/40\n",
            "1875/1875 [==============================] - 5s 3ms/step - loss: 0.5330 - accuracy: 0.8022 - val_loss: 0.4628 - val_accuracy: 0.8362\n",
            "Epoch 11/40\n",
            "1875/1875 [==============================] - 5s 3ms/step - loss: 0.5247 - accuracy: 0.8050 - val_loss: 0.4515 - val_accuracy: 0.8321\n",
            "Epoch 12/40\n",
            "1875/1875 [==============================] - 5s 3ms/step - loss: 0.5272 - accuracy: 0.8045 - val_loss: 0.4445 - val_accuracy: 0.8423\n",
            "Epoch 13/40\n",
            "1875/1875 [==============================] - 5s 3ms/step - loss: 0.5238 - accuracy: 0.8051 - val_loss: 0.4486 - val_accuracy: 0.8446\n",
            "Epoch 14/40\n",
            "1875/1875 [==============================] - 5s 3ms/step - loss: 0.5151 - accuracy: 0.8082 - val_loss: 0.4576 - val_accuracy: 0.8420\n",
            "Epoch 15/40\n",
            "1875/1875 [==============================] - 5s 3ms/step - loss: 0.5161 - accuracy: 0.8088 - val_loss: 0.4603 - val_accuracy: 0.8415\n",
            "Epoch 16/40\n",
            "1875/1875 [==============================] - 5s 3ms/step - loss: 0.5147 - accuracy: 0.8075 - val_loss: 0.4594 - val_accuracy: 0.8397\n",
            "Epoch 17/40\n",
            "1875/1875 [==============================] - 5s 3ms/step - loss: 0.5137 - accuracy: 0.8080 - val_loss: 0.4449 - val_accuracy: 0.8399\n",
            "Epoch 18/40\n",
            "1875/1875 [==============================] - 5s 3ms/step - loss: 0.5104 - accuracy: 0.8107 - val_loss: 0.4709 - val_accuracy: 0.8388\n",
            "Epoch 19/40\n",
            "1875/1875 [==============================] - 5s 3ms/step - loss: 0.5099 - accuracy: 0.8100 - val_loss: 0.4523 - val_accuracy: 0.8482\n",
            "Epoch 20/40\n",
            "1875/1875 [==============================] - 5s 3ms/step - loss: 0.5056 - accuracy: 0.8104 - val_loss: 0.4436 - val_accuracy: 0.8437\n",
            "Epoch 21/40\n",
            "1875/1875 [==============================] - 5s 3ms/step - loss: 0.5036 - accuracy: 0.8121 - val_loss: 0.4609 - val_accuracy: 0.8356\n",
            "Epoch 22/40\n",
            "1875/1875 [==============================] - 5s 3ms/step - loss: 0.5050 - accuracy: 0.8125 - val_loss: 0.4531 - val_accuracy: 0.8361\n",
            "Epoch 23/40\n",
            "1875/1875 [==============================] - 5s 3ms/step - loss: 0.5036 - accuracy: 0.8130 - val_loss: 0.4570 - val_accuracy: 0.8383\n",
            "Epoch 24/40\n",
            "1875/1875 [==============================] - 5s 3ms/step - loss: 0.5065 - accuracy: 0.8118 - val_loss: 0.4486 - val_accuracy: 0.8461\n",
            "Epoch 25/40\n",
            "1875/1875 [==============================] - 5s 3ms/step - loss: 0.5088 - accuracy: 0.8088 - val_loss: 0.4471 - val_accuracy: 0.8469\n",
            "Epoch 26/40\n",
            "1875/1875 [==============================] - 5s 3ms/step - loss: 0.4989 - accuracy: 0.8137 - val_loss: 0.4655 - val_accuracy: 0.8328\n",
            "Epoch 27/40\n",
            "1875/1875 [==============================] - 5s 3ms/step - loss: 0.4974 - accuracy: 0.8137 - val_loss: 0.4499 - val_accuracy: 0.8381\n",
            "Epoch 28/40\n",
            "1875/1875 [==============================] - 5s 3ms/step - loss: 0.5025 - accuracy: 0.8128 - val_loss: 0.4603 - val_accuracy: 0.8390\n",
            "Epoch 29/40\n",
            "1875/1875 [==============================] - 5s 3ms/step - loss: 0.4941 - accuracy: 0.8152 - val_loss: 0.4527 - val_accuracy: 0.8445\n",
            "Epoch 30/40\n",
            "1875/1875 [==============================] - 5s 3ms/step - loss: 0.4960 - accuracy: 0.8150 - val_loss: 0.4487 - val_accuracy: 0.8439\n",
            "Epoch 31/40\n",
            "1875/1875 [==============================] - 5s 3ms/step - loss: 0.4986 - accuracy: 0.8146 - val_loss: 0.4608 - val_accuracy: 0.8402\n",
            "Epoch 32/40\n",
            "1875/1875 [==============================] - 5s 3ms/step - loss: 0.4951 - accuracy: 0.8161 - val_loss: 0.4584 - val_accuracy: 0.8433\n",
            "Epoch 33/40\n",
            "1875/1875 [==============================] - 5s 3ms/step - loss: 0.4885 - accuracy: 0.8183 - val_loss: 0.4448 - val_accuracy: 0.8444\n",
            "Epoch 34/40\n",
            "1875/1875 [==============================] - 5s 3ms/step - loss: 0.4940 - accuracy: 0.8141 - val_loss: 0.4443 - val_accuracy: 0.8441\n",
            "Epoch 35/40\n",
            "1875/1875 [==============================] - 5s 3ms/step - loss: 0.4941 - accuracy: 0.8143 - val_loss: 0.4550 - val_accuracy: 0.8420\n",
            "Epoch 36/40\n",
            "1875/1875 [==============================] - 5s 3ms/step - loss: 0.4889 - accuracy: 0.8163 - val_loss: 0.4623 - val_accuracy: 0.8397\n",
            "Epoch 37/40\n",
            "1875/1875 [==============================] - 5s 3ms/step - loss: 0.4887 - accuracy: 0.8166 - val_loss: 0.4418 - val_accuracy: 0.8490\n",
            "Epoch 38/40\n",
            "1875/1875 [==============================] - 5s 3ms/step - loss: 0.4917 - accuracy: 0.8157 - val_loss: 0.4734 - val_accuracy: 0.8348\n",
            "Epoch 39/40\n",
            "1875/1875 [==============================] - 5s 3ms/step - loss: 0.4913 - accuracy: 0.8162 - val_loss: 0.4635 - val_accuracy: 0.8419\n",
            "Epoch 40/40\n",
            "1875/1875 [==============================] - 5s 3ms/step - loss: 0.4955 - accuracy: 0.8137 - val_loss: 0.4546 - val_accuracy: 0.8399\n",
            "Best epoch: 37\n"
          ],
          "name": "stdout"
        }
      ]
    }
  ]
}